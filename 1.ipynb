{
 "cells": [
  {
   "cell_type": "code",
   "execution_count": 2,
   "metadata": {},
   "outputs": [],
   "source": [
    "import numpy as np\n",
    "import matplotlib.pyplot as plt\n",
    "import pandas as pd\n",
    "import seaborn as sns"
   ]
  },
  {
   "cell_type": "code",
   "execution_count": 3,
   "metadata": {},
   "outputs": [],
   "source": [
    "df_train = pd.read_csv('data5.csv')\n",
    "feature_cols = ['GapRate', 'GapRateSqrt', 'MinTotal', 'PoolSize', 'Transportation', 'MiscFactor', 'Multiplier']\n",
    "train_x = df_train.loc[:, feature_cols]\n",
    "train_y = df_train.Month50Base\n",
    "#sns.heatmap(train_x.corr(), annot=True)\n",
    "df_test = pd.read_csv('data6.csv')\n",
    "test_x = df_test.loc[:, feature_cols]"
   ]
  },
  {
   "cell_type": "code",
   "execution_count": 4,
   "metadata": {},
   "outputs": [
    {
     "data": {
      "text/html": [
       "<div>\n",
       "<style scoped>\n",
       "    .dataframe tbody tr th:only-of-type {\n",
       "        vertical-align: middle;\n",
       "    }\n",
       "\n",
       "    .dataframe tbody tr th {\n",
       "        vertical-align: top;\n",
       "    }\n",
       "\n",
       "    .dataframe thead th {\n",
       "        text-align: right;\n",
       "    }\n",
       "</style>\n",
       "<table border=\"1\" class=\"dataframe\">\n",
       "  <thead>\n",
       "    <tr style=\"text-align: right;\">\n",
       "      <th></th>\n",
       "      <th>GapRate</th>\n",
       "      <th>GapRateSqrt</th>\n",
       "      <th>MinTotal</th>\n",
       "      <th>PoolSize</th>\n",
       "      <th>Transportation</th>\n",
       "      <th>MiscFactor</th>\n",
       "      <th>Multiplier</th>\n",
       "    </tr>\n",
       "  </thead>\n",
       "  <tbody>\n",
       "    <tr>\n",
       "      <th>0</th>\n",
       "      <td>0.416029</td>\n",
       "      <td>0.645003</td>\n",
       "      <td>670.890</td>\n",
       "      <td>1418.4</td>\n",
       "      <td>1</td>\n",
       "      <td>1</td>\n",
       "      <td>0.13</td>\n",
       "    </tr>\n",
       "    <tr>\n",
       "      <th>1</th>\n",
       "      <td>0.000000</td>\n",
       "      <td>0.000000</td>\n",
       "      <td>501.165</td>\n",
       "      <td>925.2</td>\n",
       "      <td>0</td>\n",
       "      <td>1</td>\n",
       "      <td>0.11</td>\n",
       "    </tr>\n",
       "    <tr>\n",
       "      <th>2</th>\n",
       "      <td>0.333333</td>\n",
       "      <td>0.577350</td>\n",
       "      <td>1470.000</td>\n",
       "      <td>470.0</td>\n",
       "      <td>1</td>\n",
       "      <td>0</td>\n",
       "      <td>0.21</td>\n",
       "    </tr>\n",
       "    <tr>\n",
       "      <th>3</th>\n",
       "      <td>0.000000</td>\n",
       "      <td>0.000000</td>\n",
       "      <td>516.800</td>\n",
       "      <td>12978.0</td>\n",
       "      <td>0</td>\n",
       "      <td>1</td>\n",
       "      <td>0.12</td>\n",
       "    </tr>\n",
       "    <tr>\n",
       "      <th>4</th>\n",
       "      <td>0.000000</td>\n",
       "      <td>0.000000</td>\n",
       "      <td>557.600</td>\n",
       "      <td>504.0</td>\n",
       "      <td>1</td>\n",
       "      <td>0</td>\n",
       "      <td>0.12</td>\n",
       "    </tr>\n",
       "  </tbody>\n",
       "</table>\n",
       "</div>"
      ],
      "text/plain": [
       "    GapRate  GapRateSqrt  MinTotal  PoolSize  Transportation  MiscFactor  \\\n",
       "0  0.416029     0.645003   670.890    1418.4               1           1   \n",
       "1  0.000000     0.000000   501.165     925.2               0           1   \n",
       "2  0.333333     0.577350  1470.000     470.0               1           0   \n",
       "3  0.000000     0.000000   516.800   12978.0               0           1   \n",
       "4  0.000000     0.000000   557.600     504.0               1           0   \n",
       "\n",
       "   Multiplier  \n",
       "0        0.13  \n",
       "1        0.11  \n",
       "2        0.21  \n",
       "3        0.12  \n",
       "4        0.12  "
      ]
     },
     "execution_count": 4,
     "metadata": {},
     "output_type": "execute_result"
    }
   ],
   "source": [
    "test_x.head(5)"
   ]
  },
  {
   "cell_type": "code",
   "execution_count": 5,
   "metadata": {},
   "outputs": [],
   "source": [
    "from sklearn.linear_model import LinearRegression\n",
    "reg = LinearRegression().fit(train_x, train_y)\n",
    "a = reg.predict(test_x)\n",
    "#remove comments when you run \n",
    "#for i in a:\n",
    "#    print (max(0,i))"
   ]
  },
  {
   "cell_type": "code",
   "execution_count": 6,
   "metadata": {},
   "outputs": [
    {
     "name": "stdout",
     "output_type": "stream",
     "text": [
      "GapRate \t 510.57\n",
      "GapRateSqrt \t -153.60\n",
      "MinTotal \t -0.01\n",
      "PoolSize \t -0.05\n",
      "Transportation \t 90.23\n",
      "MiscFactor \t -43.54\n",
      "Multiplier \t -632.73\n"
     ]
    }
   ],
   "source": [
    "coef = [\"%.2f\" % i for i in reg.coef_]\n",
    "for i in range(7):\n",
    "    print (feature_cols[i], \"\\t\", coef[i])"
   ]
  },
  {
   "cell_type": "code",
   "execution_count": null,
   "metadata": {},
   "outputs": [],
   "source": []
  }
 ],
 "metadata": {
  "interpreter": {
   "hash": "34eb3e53518504417132fb28e8e4061aaabcfa41a7a20610490d4c86e61b96e7"
  },
  "kernelspec": {
   "display_name": "Python 3.8.3 64-bit ('base': conda)",
   "language": "python",
   "name": "python3"
  },
  "language_info": {
   "codemirror_mode": {
    "name": "ipython",
    "version": 3
   },
   "file_extension": ".py",
   "mimetype": "text/x-python",
   "name": "python",
   "nbconvert_exporter": "python",
   "pygments_lexer": "ipython3",
   "version": "3.8.3"
  },
  "orig_nbformat": 4
 },
 "nbformat": 4,
 "nbformat_minor": 2
}
