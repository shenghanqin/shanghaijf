{
 "cells": [
  {
   "cell_type": "code",
   "execution_count": 2,
   "metadata": {},
   "outputs": [],
   "source": [
    "import numpy as np\n",
    "import matplotlib.pyplot as plt\n",
    "# csv的lib，读取、计算等\n",
    "import pandas as pd\n",
    "# seaborn 图表lib\n",
    "import seaborn as sns"
   ]
  },
  {
   "cell_type": "code",
   "execution_count": null,
   "metadata": {},
   "outputs": [],
   "source": [
    "\"\"\" \n",
    "- GapRate 价差\n",
    "- GapRateSqrt 价差的平方根\n",
    "- MinTotal 该批次该楼盘最小产证面积 * 平均单价\n",
    "- PoolSize 入围人数（未取整数）\n",
    "- Transportation 交通系数 （二元）\n",
    "- MiscFactor 其他系数（二元）\n",
    "- Multiplier 社保系数\n",
    "- Month50Base 该入围分对应50分基础分的买房客户需要的入围分数\n",
    "\"\"\""
   ]
  },
  {
   "cell_type": "code",
   "execution_count": 41,
   "metadata": {},
   "outputs": [],
   "source": [
    "# 读取文件 \n",
    "df_train = pd.read_csv('data5.csv')\n",
    "\n",
    "# 规定列\n",
    "feature_cols = ['GapRate', 'GapRateSqrt', 'MinTotal', 'PoolSize', 'Transportation', 'MiscFactor', 'Multiplier']\n",
    "\n",
    "# 读取对应列的内容，作为x轴？\n",
    "# 按照feature_cols获取对应列的数据\n",
    "train_x = df_train.loc[:, feature_cols]\n",
    "\n",
    "# 读取 Month50Base 作为y轴？\n",
    "train_y = df_train.Month50Base\n",
    "\n",
    "# print(train_x.corr())\n",
    "\n",
    "# 制作热力图，显示各个数据间的相关程度\n",
    "# annot为annotate所写，True表示在heatmap中每个方格写入数据\n",
    "# sns.heatmap(train_x.corr(), annot=True)\n",
    "\n",
    "# 读取文件\n",
    "df_test = pd.read_csv('data6.csv')\n",
    "# 估计六？ \n",
    "test_x = df_test.loc[:, feature_cols]"
   ]
  },
  {
   "cell_type": "code",
   "execution_count": 27,
   "metadata": {},
   "outputs": [
    {
     "data": {
      "text/html": [
       "<div>\n",
       "<style scoped>\n",
       "    .dataframe tbody tr th:only-of-type {\n",
       "        vertical-align: middle;\n",
       "    }\n",
       "\n",
       "    .dataframe tbody tr th {\n",
       "        vertical-align: top;\n",
       "    }\n",
       "\n",
       "    .dataframe thead th {\n",
       "        text-align: right;\n",
       "    }\n",
       "</style>\n",
       "<table border=\"1\" class=\"dataframe\">\n",
       "  <thead>\n",
       "    <tr style=\"text-align: right;\">\n",
       "      <th></th>\n",
       "      <th>GapRate</th>\n",
       "      <th>GapRateSqrt</th>\n",
       "      <th>MinTotal</th>\n",
       "      <th>PoolSize</th>\n",
       "      <th>Transportation</th>\n",
       "      <th>MiscFactor</th>\n",
       "      <th>Multiplier</th>\n",
       "    </tr>\n",
       "  </thead>\n",
       "  <tbody>\n",
       "    <tr>\n",
       "      <th>0</th>\n",
       "      <td>0.416029</td>\n",
       "      <td>0.645003</td>\n",
       "      <td>670.890</td>\n",
       "      <td>1418.4</td>\n",
       "      <td>1</td>\n",
       "      <td>1</td>\n",
       "      <td>0.13</td>\n",
       "    </tr>\n",
       "    <tr>\n",
       "      <th>1</th>\n",
       "      <td>0.000000</td>\n",
       "      <td>0.000000</td>\n",
       "      <td>501.165</td>\n",
       "      <td>925.2</td>\n",
       "      <td>0</td>\n",
       "      <td>1</td>\n",
       "      <td>0.11</td>\n",
       "    </tr>\n",
       "    <tr>\n",
       "      <th>2</th>\n",
       "      <td>0.333333</td>\n",
       "      <td>0.577350</td>\n",
       "      <td>1470.000</td>\n",
       "      <td>470.0</td>\n",
       "      <td>1</td>\n",
       "      <td>0</td>\n",
       "      <td>0.21</td>\n",
       "    </tr>\n",
       "    <tr>\n",
       "      <th>3</th>\n",
       "      <td>0.000000</td>\n",
       "      <td>0.000000</td>\n",
       "      <td>516.800</td>\n",
       "      <td>12978.0</td>\n",
       "      <td>0</td>\n",
       "      <td>1</td>\n",
       "      <td>0.12</td>\n",
       "    </tr>\n",
       "    <tr>\n",
       "      <th>4</th>\n",
       "      <td>0.000000</td>\n",
       "      <td>0.000000</td>\n",
       "      <td>557.600</td>\n",
       "      <td>504.0</td>\n",
       "      <td>1</td>\n",
       "      <td>0</td>\n",
       "      <td>0.12</td>\n",
       "    </tr>\n",
       "  </tbody>\n",
       "</table>\n",
       "</div>"
      ],
      "text/plain": [
       "    GapRate  GapRateSqrt  MinTotal  PoolSize  Transportation  MiscFactor  \\\n",
       "0  0.416029     0.645003   670.890    1418.4               1           1   \n",
       "1  0.000000     0.000000   501.165     925.2               0           1   \n",
       "2  0.333333     0.577350  1470.000     470.0               1           0   \n",
       "3  0.000000     0.000000   516.800   12978.0               0           1   \n",
       "4  0.000000     0.000000   557.600     504.0               1           0   \n",
       "\n",
       "   Multiplier  \n",
       "0        0.13  \n",
       "1        0.11  \n",
       "2        0.21  \n",
       "3        0.12  \n",
       "4        0.12  "
      ]
     },
     "execution_count": 27,
     "metadata": {},
     "output_type": "execute_result"
    }
   ],
   "source": [
    "# 列出第六批核心重要数据的前五项\n",
    "test_x.head(5)\n"
   ]
  },
  {
   "cell_type": "code",
   "execution_count": 40,
   "metadata": {},
   "outputs": [],
   "source": [
    "# 加载线性模型\n",
    "from sklearn.linear_model import LinearRegression\n",
    "# 训练模型\n",
    "reg = LinearRegression().fit(train_x, train_y)\n",
    "\n",
    "# 获取目标的社保月数\n",
    "arrMonth50 = reg.predict(test_x)\n",
    "\n",
    "#remove comments when you run \n",
    "# for i in arrMonth50:\n",
    "#    # 显示正整数\n",
    "#    print (round(max(0,i)))"
   ]
  },
  {
   "cell_type": "code",
   "execution_count": 29,
   "metadata": {},
   "outputs": [
    {
     "name": "stdout",
     "output_type": "stream",
     "text": [
      "GapRate \t 510.57\n",
      "GapRateSqrt \t -153.60\n",
      "MinTotal \t -0.01\n",
      "PoolSize \t -0.05\n",
      "Transportation \t 90.23\n",
      "MiscFactor \t -43.54\n",
      "Multiplier \t -632.73\n"
     ]
    }
   ],
   "source": [
    "coef = [\"%.2f\" % i for i in reg.coef_]\n",
    "for i in range(7):\n",
    "    print (feature_cols[i], \"\\t\", coef[i])"
   ]
  },
  {
   "cell_type": "code",
   "execution_count": null,
   "metadata": {},
   "outputs": [],
   "source": [
    "\"\"\" \n",
    "- GapRate 价差\n",
    "- GapRateSqrt 价差的平方根\n",
    "- MinTotal 该批次该楼盘最小产证面积 * 平均单价\n",
    "- PoolSize 入围人数（未取整数）\n",
    "- Transportation 交通系数 （二元）\n",
    "- MiscFactor 其他系数（二元）\n",
    "- Multiplier 社保系数\n",
    "- Month50Base 该入围分对应50分基础分的买房客户需要的入围分数\n",
    "\"\"\""
   ]
  }
 ],
 "metadata": {
  "interpreter": {
   "hash": "34eb3e53518504417132fb28e8e4061aaabcfa41a7a20610490d4c86e61b96e7"
  },
  "kernelspec": {
   "display_name": "Python 3.8.3 64-bit ('base': conda)",
   "language": "python",
   "name": "python3"
  },
  "language_info": {
   "codemirror_mode": {
    "name": "ipython",
    "version": 3
   },
   "file_extension": ".py",
   "mimetype": "text/x-python",
   "name": "python",
   "nbconvert_exporter": "python",
   "pygments_lexer": "ipython3",
   "version": "3.6.6"
  },
  "orig_nbformat": 4
 },
 "nbformat": 4,
 "nbformat_minor": 2
}
